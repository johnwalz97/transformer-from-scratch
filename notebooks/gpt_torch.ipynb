{
 "cells": [
  {
   "cell_type": "code",
   "execution_count": 40,
   "metadata": {},
   "outputs": [],
   "source": [
    "import torch\n",
    "import torch.nn as nn\n",
    "import torch.optim as optim\n",
    "from torch.utils.data import DataLoader"
   ]
  },
  {
   "cell_type": "code",
   "execution_count": 3,
   "metadata": {},
   "outputs": [],
   "source": [
    "class GPT(nn.Module):\n",
    "    def __init__(self, vocab_size, d_model, nhead, num_layers, dim_feedforward):\n",
    "        super(GPT, self).__init__()\n",
    "        self.embedding = nn.Embedding(vocab_size, d_model)\n",
    "        self.transformer = nn.Transformer(d_model, nhead, num_layers, dim_feedforward)\n",
    "        self.fc = nn.Linear(d_model, vocab_size)\n",
    "\n",
    "    def forward(self, x):\n",
    "        x = self.embedding(x)\n",
    "        x = self.transformer(x)\n",
    "        x = self.fc(x)\n",
    "        return x"
   ]
  },
  {
   "cell_type": "code",
   "execution_count": 4,
   "metadata": {},
   "outputs": [],
   "source": [
    "def train(model, dataloader, criterion, optimizer, device):\n",
    "    model.train()\n",
    "    epoch_loss = 0\n",
    "    for batch in dataloader:\n",
    "        data, targets = batch\n",
    "        data, targets = data.to(device), targets.to(device)\n",
    "\n",
    "        optimizer.zero_grad()\n",
    "        output = model(data)\n",
    "        loss = criterion(output.view(-1, output.size(-1)), targets.view(-1))\n",
    "        loss.backward()\n",
    "        optimizer.step()\n",
    "\n",
    "        epoch_loss += loss.item()\n",
    "    return epoch_loss / len(dataloader)"
   ]
  },
  {
   "cell_type": "code",
   "execution_count": 80,
   "metadata": {},
   "outputs": [],
   "source": [
    "with open(\"dataset.txt\") as f:\n",
    "    text = f.read()\n",
    "\n",
    "chars = sorted(list(set(text)))\n",
    "vocab_size = len(chars)\n",
    "\n",
    "char_to_idx = {ch: i for i, ch in enumerate(chars)}\n",
    "idx_to_char = {i: ch for i, ch in enumerate(chars)}\n",
    "\n",
    "encode = lambda x: [char_to_idx[ch] for ch in x]\n",
    "decode = lambda x: \"\".join([idx_to_char[i] for i in x])\n",
    "decode_tensor = lambda x: \"\".join([idx_to_char[i.item()] for i in x])"
   ]
  },
  {
   "cell_type": "code",
   "execution_count": 50,
   "metadata": {},
   "outputs": [
    {
     "data": {
      "text/plain": [
       "[46, 47, 47, 1, 58, 46, 43, 56, 43]"
      ]
     },
     "execution_count": 50,
     "metadata": {},
     "output_type": "execute_result"
    }
   ],
   "source": [
    "encode(\"hii there\")"
   ]
  },
  {
   "cell_type": "code",
   "execution_count": 55,
   "metadata": {},
   "outputs": [
    {
     "data": {
      "text/plain": [
       "'hii there'"
      ]
     },
     "execution_count": 55,
     "metadata": {},
     "output_type": "execute_result"
    }
   ],
   "source": [
    "decode([46, 47, 47, 1, 58, 46, 43, 56, 43])"
   ]
  },
  {
   "cell_type": "code",
   "execution_count": 58,
   "metadata": {},
   "outputs": [],
   "source": [
    "data = torch.tensor(encode(text), dtype=torch.long)"
   ]
  },
  {
   "cell_type": "code",
   "execution_count": 62,
   "metadata": {},
   "outputs": [
    {
     "name": "stdout",
     "output_type": "stream",
     "text": [
      "torch.Size([1115394])\n",
      "tensor([18, 47, 56, 57, 58,  1, 15, 47, 58, 47])\n",
      "First Citi\n"
     ]
    }
   ],
   "source": [
    "print(data.shape)\n",
    "print(data[:10])\n",
    "print(text[:10])"
   ]
  },
  {
   "cell_type": "code",
   "execution_count": 64,
   "metadata": {},
   "outputs": [],
   "source": [
    "n = int(len(data) * 0.9)\n",
    "train_data = data[:n]\n",
    "val_data = data[n:]"
   ]
  },
  {
   "cell_type": "code",
   "execution_count": 84,
   "metadata": {},
   "outputs": [
    {
     "name": "stdout",
     "output_type": "stream",
     "text": [
      "when input is tensor([18])(F) the target: 47(i)\n",
      "when input is tensor([18, 47])(Fi) the target: 56(r)\n",
      "when input is tensor([18, 47, 56])(Fir) the target: 57(s)\n",
      "when input is tensor([18, 47, 56, 57])(Firs) the target: 58(t)\n",
      "when input is tensor([18, 47, 56, 57, 58])(First) the target: 1( )\n",
      "when input is tensor([18, 47, 56, 57, 58,  1])(First ) the target: 15(C)\n",
      "when input is tensor([18, 47, 56, 57, 58,  1, 15])(First C) the target: 47(i)\n",
      "when input is tensor([18, 47, 56, 57, 58,  1, 15, 47])(First Ci) the target: 58(t)\n"
     ]
    }
   ],
   "source": [
    "x = train_data[:8]\n",
    "y = train_data[1:8+1]\n",
    "for t in range(8):\n",
    "    context = x[:t+1]\n",
    "    target = y[t]\n",
    "    print(f\"when input is {context}({decode_tensor(context)}) the target: {target}({decode_tensor([target])})\")"
   ]
  },
  {
   "cell_type": "code",
   "execution_count": 76,
   "metadata": {},
   "outputs": [],
   "source": [
    "batch_size = 4\n",
    "block_size = 8\n",
    "\n",
    "def get_batch(split):\n",
    "    data = train_data if split == \"train\" else val_data\n",
    "\n",
    "    ix = torch.randint(0, data.size(0) - block_size, (batch_size,))\n",
    "    x = torch.stack([data[i:i+block_size] for i in ix])\n",
    "    y = torch.stack([data[i+1:i+block_size+1] for i in ix])\n",
    "\n",
    "    return x, y"
   ]
  },
  {
   "cell_type": "code",
   "execution_count": 89,
   "metadata": {},
   "outputs": [
    {
     "name": "stdout",
     "output_type": "stream",
     "text": [
      "torch.Size([4, 8]) torch.Size([4, 8])\n",
      "tensor([[ 0, 25, 63,  1, 50, 53, 56, 42],\n",
      "        [ 1, 58, 46, 43,  1, 61, 39, 56],\n",
      "        [57,  1, 54, 50, 39, 41, 43,  8],\n",
      "        [ 1, 44, 39, 58, 46, 43, 56,  8]])\n",
      "tensor([[25, 63,  1, 50, 53, 56, 42,  6],\n",
      "        [58, 46, 43,  1, 61, 39, 56, 56],\n",
      "        [ 1, 54, 50, 39, 41, 43,  8,  0],\n",
      "        [44, 39, 58, 46, 43, 56,  8,  0]])\n",
      "When input is [0], the target is 25\n",
      "When input is [0, 25], the target is 63\n",
      "When input is [0, 25, 63], the target is 1\n",
      "When input is [0, 25, 63, 1], the target is 50\n",
      "When input is [0, 25, 63, 1, 50], the target is 53\n",
      "When input is [0, 25, 63, 1, 50, 53], the target is 56\n",
      "When input is [0, 25, 63, 1, 50, 53, 56], the target is 42\n",
      "When input is [0, 25, 63, 1, 50, 53, 56, 42], the target is 6\n",
      "When input is [1], the target is 58\n",
      "When input is [1, 58], the target is 46\n",
      "When input is [1, 58, 46], the target is 43\n",
      "When input is [1, 58, 46, 43], the target is 1\n",
      "When input is [1, 58, 46, 43, 1], the target is 61\n",
      "When input is [1, 58, 46, 43, 1, 61], the target is 39\n",
      "When input is [1, 58, 46, 43, 1, 61, 39], the target is 56\n",
      "When input is [1, 58, 46, 43, 1, 61, 39, 56], the target is 56\n",
      "When input is [57], the target is 1\n",
      "When input is [57, 1], the target is 54\n",
      "When input is [57, 1, 54], the target is 50\n",
      "When input is [57, 1, 54, 50], the target is 39\n",
      "When input is [57, 1, 54, 50, 39], the target is 41\n",
      "When input is [57, 1, 54, 50, 39, 41], the target is 43\n",
      "When input is [57, 1, 54, 50, 39, 41, 43], the target is 8\n",
      "When input is [57, 1, 54, 50, 39, 41, 43, 8], the target is 0\n",
      "When input is [1], the target is 44\n",
      "When input is [1, 44], the target is 39\n",
      "When input is [1, 44, 39], the target is 58\n",
      "When input is [1, 44, 39, 58], the target is 46\n",
      "When input is [1, 44, 39, 58, 46], the target is 43\n",
      "When input is [1, 44, 39, 58, 46, 43], the target is 56\n",
      "When input is [1, 44, 39, 58, 46, 43, 56], the target is 8\n",
      "When input is [1, 44, 39, 58, 46, 43, 56, 8], the target is 0\n"
     ]
    }
   ],
   "source": [
    "xb, yb = get_batch(\"train\")\n",
    "print(xb.shape, yb.shape)\n",
    "print(xb)\n",
    "print(yb)\n",
    "\n",
    "for b in range(batch_size):\n",
    "    for t in range(block_size):\n",
    "        context = xb[b, :t+1]\n",
    "        target = yb[b, t]\n",
    "        print(f\"When input is {context.tolist()}, the target is {target.tolist()}\")"
   ]
  },
  {
   "cell_type": "code",
   "execution_count": null,
   "metadata": {},
   "outputs": [],
   "source": [
    "device = torch.device(\"cuda\" if torch.cuda.is_available() else \"cpu\")\n",
    "\n",
    "vocab_size = len(vocab)\n",
    "d_model = 512\n",
    "nhead = 8\n",
    "num_layers = 4\n",
    "dim_feedforward = 2048\n",
    "\n",
    "model = GPT(vocab_size, d_model, nhead, num_layers, dim_feedforward).to(device)\n",
    "criterion = nn.CrossEntropyLoss()\n",
    "optimizer = optim.Adam(model.parameters(), lr=1e-4)"
   ]
  },
  {
   "cell_type": "code",
   "execution_count": null,
   "metadata": {},
   "outputs": [],
   "source": [
    "num_epochs = 10\n",
    "\n",
    "for epoch in range(num_epochs):\n",
    "    loss = train(model, dataloader, criterion, optimizer, device)\n",
    "    print(f\"Epoch {epoch + 1}, Loss: {loss:.4f}\")"
   ]
  }
 ],
 "metadata": {
  "kernelspec": {
   "display_name": "transformer-from-scratch-5bReXo1X-py3.11",
   "language": "python",
   "name": "python3"
  },
  "language_info": {
   "codemirror_mode": {
    "name": "ipython",
    "version": 3
   },
   "file_extension": ".py",
   "mimetype": "text/x-python",
   "name": "python",
   "nbconvert_exporter": "python",
   "pygments_lexer": "ipython3",
   "version": "3.11.3"
  },
  "orig_nbformat": 4
 },
 "nbformat": 4,
 "nbformat_minor": 2
}
